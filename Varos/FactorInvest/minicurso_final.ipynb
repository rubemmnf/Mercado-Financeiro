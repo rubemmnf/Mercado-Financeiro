{
  "cells": [
    {
      "cell_type": "code",
      "execution_count": 32,
      "id": "136cf458",
      "metadata": {
        "id": "136cf458"
      },
      "outputs": [],
      "source": [
        "import pandas as pd\n",
        "from pandas_datareader import data as pdr\n",
        "import matplotlib.pyplot as plt\n",
        "import matplotlib.ticker as mtick\n",
        "import yfinance as yf\n",
        "yf.pdr_override()"
      ]
    },
    {
      "cell_type": "code",
      "execution_count": 33,
      "id": "37aa6488",
      "metadata": {
        "id": "37aa6488"
      },
      "outputs": [
        {
          "name": "stdout",
          "output_type": "stream",
          "text": [
            "[*********************100%***********************]  5 of 5 completed\n"
          ]
        },
        {
          "data": {
            "text/html": [
              "<div>\n",
              "<style scoped>\n",
              "    .dataframe tbody tr th:only-of-type {\n",
              "        vertical-align: middle;\n",
              "    }\n",
              "\n",
              "    .dataframe tbody tr th {\n",
              "        vertical-align: top;\n",
              "    }\n",
              "\n",
              "    .dataframe thead th {\n",
              "        text-align: right;\n",
              "    }\n",
              "</style>\n",
              "<table border=\"1\" class=\"dataframe\">\n",
              "  <thead>\n",
              "    <tr style=\"text-align: right;\">\n",
              "      <th></th>\n",
              "      <th>BBAS3.SA</th>\n",
              "      <th>BBDC4.SA</th>\n",
              "      <th>ITUB4.SA</th>\n",
              "      <th>SANB4.SA</th>\n",
              "      <th>^BVSP</th>\n",
              "    </tr>\n",
              "    <tr>\n",
              "      <th>Date</th>\n",
              "      <th></th>\n",
              "      <th></th>\n",
              "      <th></th>\n",
              "      <th></th>\n",
              "      <th></th>\n",
              "    </tr>\n",
              "  </thead>\n",
              "  <tbody>\n",
              "    <tr>\n",
              "      <th>2010-01-04</th>\n",
              "      <td>12.759056</td>\n",
              "      <td>7.674427</td>\n",
              "      <td>10.893439</td>\n",
              "      <td>5.563494</td>\n",
              "      <td>70045.0</td>\n",
              "    </tr>\n",
              "    <tr>\n",
              "      <th>2010-01-05</th>\n",
              "      <td>12.631047</td>\n",
              "      <td>7.636658</td>\n",
              "      <td>10.964027</td>\n",
              "      <td>5.563494</td>\n",
              "      <td>70240.0</td>\n",
              "    </tr>\n",
              "    <tr>\n",
              "      <th>2010-01-06</th>\n",
              "      <td>12.648113</td>\n",
              "      <td>7.575562</td>\n",
              "      <td>10.868996</td>\n",
              "      <td>5.563494</td>\n",
              "      <td>70729.0</td>\n",
              "    </tr>\n",
              "    <tr>\n",
              "      <th>2010-01-07</th>\n",
              "      <td>12.652389</td>\n",
              "      <td>7.555197</td>\n",
              "      <td>10.757670</td>\n",
              "      <td>5.563494</td>\n",
              "      <td>70451.0</td>\n",
              "    </tr>\n",
              "    <tr>\n",
              "      <th>2010-01-08</th>\n",
              "      <td>12.724931</td>\n",
              "      <td>7.547054</td>\n",
              "      <td>10.594763</td>\n",
              "      <td>5.563494</td>\n",
              "      <td>70263.0</td>\n",
              "    </tr>\n",
              "    <tr>\n",
              "      <th>...</th>\n",
              "      <td>...</td>\n",
              "      <td>...</td>\n",
              "      <td>...</td>\n",
              "      <td>...</td>\n",
              "      <td>...</td>\n",
              "    </tr>\n",
              "    <tr>\n",
              "      <th>2022-04-25</th>\n",
              "      <td>32.742828</td>\n",
              "      <td>17.946095</td>\n",
              "      <td>24.603920</td>\n",
              "      <td>16.824755</td>\n",
              "      <td>110685.0</td>\n",
              "    </tr>\n",
              "    <tr>\n",
              "      <th>2022-04-26</th>\n",
              "      <td>32.006824</td>\n",
              "      <td>17.175636</td>\n",
              "      <td>23.766792</td>\n",
              "      <td>16.059992</td>\n",
              "      <td>108213.0</td>\n",
              "    </tr>\n",
              "    <tr>\n",
              "      <th>2022-04-27</th>\n",
              "      <td>32.148357</td>\n",
              "      <td>17.278992</td>\n",
              "      <td>23.574347</td>\n",
              "      <td>16.069551</td>\n",
              "      <td>109349.0</td>\n",
              "    </tr>\n",
              "    <tr>\n",
              "      <th>2022-04-28</th>\n",
              "      <td>32.091743</td>\n",
              "      <td>17.119261</td>\n",
              "      <td>23.381899</td>\n",
              "      <td>15.897480</td>\n",
              "      <td>109919.0</td>\n",
              "    </tr>\n",
              "    <tr>\n",
              "      <th>2022-04-29</th>\n",
              "      <td>31.346308</td>\n",
              "      <td>16.893761</td>\n",
              "      <td>22.968149</td>\n",
              "      <td>15.897480</td>\n",
              "      <td>107876.0</td>\n",
              "    </tr>\n",
              "  </tbody>\n",
              "</table>\n",
              "<p>3056 rows × 5 columns</p>\n",
              "</div>"
            ],
            "text/plain": [
              "             BBAS3.SA   BBDC4.SA   ITUB4.SA   SANB4.SA     ^BVSP\n",
              "Date                                                            \n",
              "2010-01-04  12.759056   7.674427  10.893439   5.563494   70045.0\n",
              "2010-01-05  12.631047   7.636658  10.964027   5.563494   70240.0\n",
              "2010-01-06  12.648113   7.575562  10.868996   5.563494   70729.0\n",
              "2010-01-07  12.652389   7.555197  10.757670   5.563494   70451.0\n",
              "2010-01-08  12.724931   7.547054  10.594763   5.563494   70263.0\n",
              "...               ...        ...        ...        ...       ...\n",
              "2022-04-25  32.742828  17.946095  24.603920  16.824755  110685.0\n",
              "2022-04-26  32.006824  17.175636  23.766792  16.059992  108213.0\n",
              "2022-04-27  32.148357  17.278992  23.574347  16.069551  109349.0\n",
              "2022-04-28  32.091743  17.119261  23.381899  15.897480  109919.0\n",
              "2022-04-29  31.346308  16.893761  22.968149  15.897480  107876.0\n",
              "\n",
              "[3056 rows x 5 columns]"
            ]
          },
          "execution_count": 33,
          "metadata": {},
          "output_type": "execute_result"
        }
      ],
      "source": [
        "dados_bancarios = pdr.get_data_yahoo(['ITUB4.SA', 'BBAS3.SA', 'SANB4.SA', 'BBDC4.SA', '^BVSP'], \n",
        "                                     start = \"2010-01-01\", end = '2022-04-30')['Adj Close']\n",
        "\n",
        "dados_bancarios"
      ]
    },
    {
      "cell_type": "code",
      "execution_count": 37,
      "id": "fe9adf19",
      "metadata": {},
      "outputs": [
        {
          "ename": "Exception",
          "evalue": "yfinance failed to decrypt Yahoo data response",
          "output_type": "error",
          "traceback": [
            "\u001b[1;31m---------------------------------------------------------------------------\u001b[0m",
            "\u001b[1;31mException\u001b[0m                                 Traceback (most recent call last)",
            "Cell \u001b[1;32mIn[37], line 10\u001b[0m\n\u001b[0;32m      7\u001b[0m empresa \u001b[39m=\u001b[39m yf\u001b[39m.\u001b[39mTicker(acao)\n\u001b[0;32m      9\u001b[0m \u001b[39m# Use a função financials para obter os dados financeiros\u001b[39;00m\n\u001b[1;32m---> 10\u001b[0m dados_fin \u001b[39m=\u001b[39m empresa\u001b[39m.\u001b[39;49mincome_stmt(as_dict\u001b[39m=\u001b[39m\u001b[39mTrue\u001b[39;00m, pretty\u001b[39m=\u001b[39m\u001b[39mTrue\u001b[39;00m)\n\u001b[0;32m     11\u001b[0m dados_fin\n\u001b[0;32m     13\u001b[0m \u001b[39m# Filtra o lucro líquido\u001b[39;00m\n\u001b[0;32m     14\u001b[0m \u001b[39m#lucro_liquido = dados_fin.loc[\"Net Income\", inicio:fim]\u001b[39;00m\n\u001b[0;32m     15\u001b[0m \n\u001b[0;32m     16\u001b[0m \u001b[39m# Exibir os dados de lucro líquido\u001b[39;00m\n\u001b[0;32m     17\u001b[0m \u001b[39m#print(lucro_liquido)\u001b[39;00m\n",
            "File \u001b[1;32mc:\\Users\\rmnf\\AppData\\Local\\Programs\\Python\\Python311\\Lib\\site-packages\\yfinance\\ticker.py:158\u001b[0m, in \u001b[0;36mTicker.income_stmt\u001b[1;34m(self)\u001b[0m\n\u001b[0;32m    156\u001b[0m \u001b[39m@property\u001b[39m\n\u001b[0;32m    157\u001b[0m \u001b[39mdef\u001b[39;00m \u001b[39mincome_stmt\u001b[39m(\u001b[39mself\u001b[39m) \u001b[39m-\u001b[39m\u001b[39m>\u001b[39m _pd\u001b[39m.\u001b[39mDataFrame:\n\u001b[1;32m--> 158\u001b[0m     \u001b[39mreturn\u001b[39;00m \u001b[39mself\u001b[39;49m\u001b[39m.\u001b[39;49mget_income_stmt(pretty\u001b[39m=\u001b[39;49m\u001b[39mTrue\u001b[39;49;00m)\n",
            "File \u001b[1;32mc:\\Users\\rmnf\\AppData\\Local\\Programs\\Python\\Python311\\Lib\\site-packages\\yfinance\\base.py:1582\u001b[0m, in \u001b[0;36mTickerBase.get_income_stmt\u001b[1;34m(self, proxy, as_dict, pretty, freq, legacy)\u001b[0m\n\u001b[0;32m   1580\u001b[0m     data \u001b[39m=\u001b[39m \u001b[39mself\u001b[39m\u001b[39m.\u001b[39m_fundamentals\u001b[39m.\u001b[39mfinancials\u001b[39m.\u001b[39mget_income_scrape(freq\u001b[39m=\u001b[39mfreq, proxy\u001b[39m=\u001b[39mproxy)\n\u001b[0;32m   1581\u001b[0m \u001b[39melse\u001b[39;00m:\n\u001b[1;32m-> 1582\u001b[0m     data \u001b[39m=\u001b[39m \u001b[39mself\u001b[39;49m\u001b[39m.\u001b[39;49m_fundamentals\u001b[39m.\u001b[39;49mfinancials\u001b[39m.\u001b[39;49mget_income_time_series(freq\u001b[39m=\u001b[39;49mfreq, proxy\u001b[39m=\u001b[39;49mproxy)\n\u001b[0;32m   1584\u001b[0m \u001b[39mif\u001b[39;00m pretty:\n\u001b[0;32m   1585\u001b[0m     data \u001b[39m=\u001b[39m data\u001b[39m.\u001b[39mcopy()\n",
            "File \u001b[1;32mc:\\Users\\rmnf\\AppData\\Local\\Programs\\Python\\Python311\\Lib\\site-packages\\yfinance\\scrapers\\fundamentals.py:113\u001b[0m, in \u001b[0;36mFinancials.get_income_time_series\u001b[1;34m(self, freq, proxy)\u001b[0m\n\u001b[0;32m    111\u001b[0m res \u001b[39m=\u001b[39m \u001b[39mself\u001b[39m\u001b[39m.\u001b[39m_income_time_series\n\u001b[0;32m    112\u001b[0m \u001b[39mif\u001b[39;00m freq \u001b[39mnot\u001b[39;00m \u001b[39min\u001b[39;00m res:\n\u001b[1;32m--> 113\u001b[0m     res[freq] \u001b[39m=\u001b[39m \u001b[39mself\u001b[39;49m\u001b[39m.\u001b[39;49m_fetch_time_series(\u001b[39m\"\u001b[39;49m\u001b[39mincome\u001b[39;49m\u001b[39m\"\u001b[39;49m, freq, proxy\u001b[39m=\u001b[39;49m\u001b[39mNone\u001b[39;49;00m)\n\u001b[0;32m    114\u001b[0m \u001b[39mreturn\u001b[39;00m res[freq]\n",
            "File \u001b[1;32mc:\\Users\\rmnf\\AppData\\Local\\Programs\\Python\\Python311\\Lib\\site-packages\\yfinance\\scrapers\\fundamentals.py:142\u001b[0m, in \u001b[0;36mFinancials._fetch_time_series\u001b[1;34m(self, name, timescale, proxy)\u001b[0m\n\u001b[0;32m    139\u001b[0m     \u001b[39mraise\u001b[39;00m \u001b[39mValueError\u001b[39;00m(\u001b[39m\"\u001b[39m\u001b[39mIllegal argument: timescale must be one of: \u001b[39m\u001b[39m{}\u001b[39;00m\u001b[39m\"\u001b[39m\u001b[39m.\u001b[39mformat(allowed_names))\n\u001b[0;32m    141\u001b[0m \u001b[39mtry\u001b[39;00m:\n\u001b[1;32m--> 142\u001b[0m     statement \u001b[39m=\u001b[39m \u001b[39mself\u001b[39;49m\u001b[39m.\u001b[39;49m_create_financials_table(name, timescale, proxy)\n\u001b[0;32m    144\u001b[0m     \u001b[39mif\u001b[39;00m statement \u001b[39mis\u001b[39;00m \u001b[39mnot\u001b[39;00m \u001b[39mNone\u001b[39;00m:\n\u001b[0;32m    145\u001b[0m         \u001b[39mreturn\u001b[39;00m statement\n",
            "File \u001b[1;32mc:\\Users\\rmnf\\AppData\\Local\\Programs\\Python\\Python311\\Lib\\site-packages\\yfinance\\scrapers\\fundamentals.py:155\u001b[0m, in \u001b[0;36mFinancials._create_financials_table\u001b[1;34m(self, name, timescale, proxy)\u001b[0m\n\u001b[0;32m    151\u001b[0m \u001b[39mif\u001b[39;00m name \u001b[39m==\u001b[39m \u001b[39m\"\u001b[39m\u001b[39mincome\u001b[39m\u001b[39m\"\u001b[39m:\n\u001b[0;32m    152\u001b[0m     \u001b[39m# Yahoo stores the 'income' table internally under 'financials' key\u001b[39;00m\n\u001b[0;32m    153\u001b[0m     name \u001b[39m=\u001b[39m \u001b[39m\"\u001b[39m\u001b[39mfinancials\u001b[39m\u001b[39m\"\u001b[39m\n\u001b[1;32m--> 155\u001b[0m keys \u001b[39m=\u001b[39m \u001b[39mself\u001b[39;49m\u001b[39m.\u001b[39;49m_get_datastore_keys(name, proxy)\n\u001b[0;32m    156\u001b[0m \u001b[39mtry\u001b[39;00m:\n\u001b[0;32m    157\u001b[0m     \u001b[39mreturn\u001b[39;00m \u001b[39mself\u001b[39m\u001b[39m.\u001b[39mget_financials_time_series(timescale, keys, proxy)\n",
            "File \u001b[1;32mc:\\Users\\rmnf\\AppData\\Local\\Programs\\Python\\Python311\\Lib\\site-packages\\yfinance\\scrapers\\fundamentals.py:162\u001b[0m, in \u001b[0;36mFinancials._get_datastore_keys\u001b[1;34m(self, sub_page, proxy)\u001b[0m\n\u001b[0;32m    161\u001b[0m \u001b[39mdef\u001b[39;00m \u001b[39m_get_datastore_keys\u001b[39m(\u001b[39mself\u001b[39m, sub_page, proxy) \u001b[39m-\u001b[39m\u001b[39m>\u001b[39m \u001b[39mlist\u001b[39m:\n\u001b[1;32m--> 162\u001b[0m     data_stores \u001b[39m=\u001b[39m \u001b[39mself\u001b[39;49m\u001b[39m.\u001b[39;49m_data\u001b[39m.\u001b[39;49mget_json_data_stores(sub_page, proxy)\n\u001b[0;32m    164\u001b[0m     \u001b[39m# Step 1: get the keys:\u001b[39;00m\n\u001b[0;32m    165\u001b[0m     \u001b[39mdef\u001b[39;00m \u001b[39m_finditem1\u001b[39m(key, obj):\n",
            "File \u001b[1;32mc:\\Users\\rmnf\\AppData\\Local\\Programs\\Python\\Python311\\Lib\\site-packages\\yfinance\\data.py:41\u001b[0m, in \u001b[0;36mlru_cache_freezeargs.<locals>.wrapped\u001b[1;34m(*args, **kwargs)\u001b[0m\n\u001b[0;32m     39\u001b[0m args \u001b[39m=\u001b[39m \u001b[39mtuple\u001b[39m([\u001b[39mtuple\u001b[39m(arg) \u001b[39mif\u001b[39;00m \u001b[39misinstance\u001b[39m(arg, \u001b[39mlist\u001b[39m) \u001b[39melse\u001b[39;00m arg \u001b[39mfor\u001b[39;00m arg \u001b[39min\u001b[39;00m args])\n\u001b[0;32m     40\u001b[0m kwargs \u001b[39m=\u001b[39m {k: \u001b[39mtuple\u001b[39m(v) \u001b[39mif\u001b[39;00m \u001b[39misinstance\u001b[39m(v, \u001b[39mlist\u001b[39m) \u001b[39melse\u001b[39;00m v \u001b[39mfor\u001b[39;00m k, v \u001b[39min\u001b[39;00m kwargs\u001b[39m.\u001b[39mitems()}\n\u001b[1;32m---> 41\u001b[0m \u001b[39mreturn\u001b[39;00m func(\u001b[39m*\u001b[39;49margs, \u001b[39m*\u001b[39;49m\u001b[39m*\u001b[39;49mkwargs)\n",
            "File \u001b[1;32mc:\\Users\\rmnf\\AppData\\Local\\Programs\\Python\\Python311\\Lib\\site-packages\\yfinance\\data.py:311\u001b[0m, in \u001b[0;36mTickerData.get_json_data_stores\u001b[1;34m(self, sub_page, proxy)\u001b[0m\n\u001b[0;32m    308\u001b[0m     keys \u001b[39m+\u001b[39m\u001b[39m=\u001b[39m response_gh\u001b[39m.\u001b[39mtext\u001b[39m.\u001b[39msplitlines()\n\u001b[0;32m    310\u001b[0m \u001b[39m# Decrypt!\u001b[39;00m\n\u001b[1;32m--> 311\u001b[0m stores \u001b[39m=\u001b[39m decrypt_cryptojs_aes_stores(data, keys)\n\u001b[0;32m    312\u001b[0m \u001b[39mif\u001b[39;00m stores \u001b[39mis\u001b[39;00m \u001b[39mNone\u001b[39;00m:\n\u001b[0;32m    313\u001b[0m     \u001b[39m# Maybe Yahoo returned old format, not encrypted\u001b[39;00m\n\u001b[0;32m    314\u001b[0m     \u001b[39mif\u001b[39;00m \u001b[39m\"\u001b[39m\u001b[39mcontext\u001b[39m\u001b[39m\"\u001b[39m \u001b[39min\u001b[39;00m data \u001b[39mand\u001b[39;00m \u001b[39m\"\u001b[39m\u001b[39mdispatcher\u001b[39m\u001b[39m\"\u001b[39m \u001b[39min\u001b[39;00m data[\u001b[39m\"\u001b[39m\u001b[39mcontext\u001b[39m\u001b[39m\"\u001b[39m]:\n",
            "File \u001b[1;32mc:\\Users\\rmnf\\AppData\\Local\\Programs\\Python\\Python311\\Lib\\site-packages\\yfinance\\data.py:162\u001b[0m, in \u001b[0;36mdecrypt_cryptojs_aes_stores\u001b[1;34m(data, keys)\u001b[0m\n\u001b[0;32m    160\u001b[0m             \u001b[39mpass\u001b[39;00m\n\u001b[0;32m    161\u001b[0m     \u001b[39mif\u001b[39;00m \u001b[39mnot\u001b[39;00m success:\n\u001b[1;32m--> 162\u001b[0m         \u001b[39mraise\u001b[39;00m \u001b[39mException\u001b[39;00m(\u001b[39m\"\u001b[39m\u001b[39myfinance failed to decrypt Yahoo data response\u001b[39m\u001b[39m\"\u001b[39m)\n\u001b[0;32m    164\u001b[0m decoded_stores \u001b[39m=\u001b[39m json\u001b[39m.\u001b[39mloads(plaintext)\n\u001b[0;32m    165\u001b[0m \u001b[39mreturn\u001b[39;00m decoded_stores\n",
            "\u001b[1;31mException\u001b[0m: yfinance failed to decrypt Yahoo data response"
          ]
        }
      ],
      "source": [
        "# Define a ação da empresa e o período desejado\n",
        "acao = \"PETR4.SA\"\n",
        "inicio = \"2016-01-01\"\n",
        "fim = \"2021-12-31\"\n",
        "\n",
        "# Use a função Ticker para obter os dados financeiros da empresa\n",
        "empresa = yf.Ticker(acao)\n",
        "\n",
        "# Use a função financials para obter os dados financeiros\n",
        "dados_fin = empresa.income_stmt(as_dict=True, pretty=True)\n",
        "dados_fin\n",
        "\n",
        "# Filtra o lucro líquido\n",
        "#lucro_liquido = dados_fin.loc[\"Net Income\", inicio:fim]\n",
        "\n",
        "# Exibir os dados de lucro líquido\n",
        "#print(lucro_liquido)"
      ]
    },
    {
      "cell_type": "code",
      "execution_count": null,
      "id": "570307e2",
      "metadata": {
        "id": "570307e2"
      },
      "outputs": [
        {
          "data": {
            "text/html": [
              "<div>\n",
              "<style scoped>\n",
              "    .dataframe tbody tr th:only-of-type {\n",
              "        vertical-align: middle;\n",
              "    }\n",
              "\n",
              "    .dataframe tbody tr th {\n",
              "        vertical-align: top;\n",
              "    }\n",
              "\n",
              "    .dataframe thead th {\n",
              "        text-align: right;\n",
              "    }\n",
              "</style>\n",
              "<table border=\"1\" class=\"dataframe\">\n",
              "  <thead>\n",
              "    <tr style=\"text-align: right;\">\n",
              "      <th></th>\n",
              "      <th>bradesco</th>\n",
              "      <th>banco_do_brasil</th>\n",
              "      <th>itau</th>\n",
              "      <th>santander</th>\n",
              "    </tr>\n",
              "    <tr>\n",
              "      <th>data</th>\n",
              "      <th></th>\n",
              "      <th></th>\n",
              "      <th></th>\n",
              "      <th></th>\n",
              "    </tr>\n",
              "  </thead>\n",
              "  <tbody>\n",
              "    <tr>\n",
              "      <th>2009-12-31</th>\n",
              "      <td>8012282</td>\n",
              "      <td>10147522</td>\n",
              "      <td>10066608</td>\n",
              "      <td>1805899</td>\n",
              "    </tr>\n",
              "    <tr>\n",
              "      <th>2021-12-31</th>\n",
              "      <td>21945688</td>\n",
              "      <td>19710402</td>\n",
              "      <td>24988000</td>\n",
              "      <td>14987716</td>\n",
              "    </tr>\n",
              "  </tbody>\n",
              "</table>\n",
              "</div>"
            ],
            "text/plain": [
              "            bradesco  banco_do_brasil      itau  santander\n",
              "data                                                      \n",
              "2009-12-31   8012282         10147522  10066608    1805899\n",
              "2021-12-31  21945688         19710402  24988000   14987716"
            ]
          },
          "execution_count": 4,
          "metadata": {},
          "output_type": "execute_result"
        }
      ],
      "source": [
        "#Puxar da fundamentus?\n",
        "\n",
        "lucro_bancos = pd.read_excel('Minicurso_python_planilha_2022.xlsx', index_col = \"data\")\n",
        "\n",
        "lucro_bancos"
      ]
    },
    {
      "cell_type": "code",
      "execution_count": null,
      "id": "cfa2405b",
      "metadata": {
        "id": "cfa2405b"
      },
      "outputs": [],
      "source": [
        "itau = dados_bancarios['ITUB4.SA']\n",
        "santander = dados_bancarios['SANB4.SA']\n",
        "banco_do_brasil = dados_bancarios['BBAS3.SA']\n",
        "bradesco = dados_bancarios['BBDC4.SA']\n",
        "dados_mercado = dados_bancarios['^BVSP']"
      ]
    },
    {
      "cell_type": "code",
      "execution_count": null,
      "id": "10d1466f",
      "metadata": {
        "id": "10d1466f"
      },
      "outputs": [],
      "source": [
        "def retorno(lista):\n",
        "    retorno = lista[-1]/lista[0] - 1\n",
        "    \n",
        "    return retorno "
      ]
    },
    {
      "cell_type": "code",
      "execution_count": null,
      "id": "034a23d7",
      "metadata": {
        "id": "034a23d7"
      },
      "outputs": [],
      "source": [
        "retorno_itau = retorno(lista = itau)\n",
        "retorno_banco_brasil = retorno(lista = banco_do_brasil)\n",
        "retorno_bradesco = retorno(lista = bradesco)\n",
        "retorno_santander = retorno(lista = santander)\n",
        "retorno_mercado = retorno(lista = dados_mercado)"
      ]
    },
    {
      "cell_type": "code",
      "execution_count": null,
      "id": "a8d190c4",
      "metadata": {
        "id": "a8d190c4"
      },
      "outputs": [
        {
          "data": {
            "text/plain": [
              "(1.1084403609968736,\n",
              " 1.456786644592024,\n",
              " 1.2013078441758558,\n",
              " 1.8574625487304686,\n",
              " 0.5400956527946321)"
            ]
          },
          "execution_count": 8,
          "metadata": {},
          "output_type": "execute_result"
        }
      ],
      "source": [
        "retorno_itau, retorno_banco_brasil, retorno_bradesco, retorno_santander, retorno_mercado"
      ]
    },
    {
      "cell_type": "code",
      "execution_count": null,
      "id": "729b1c6b",
      "metadata": {
        "id": "729b1c6b"
      },
      "outputs": [
        {
          "data": {
            "text/html": [
              "<div>\n",
              "<style scoped>\n",
              "    .dataframe tbody tr th:only-of-type {\n",
              "        vertical-align: middle;\n",
              "    }\n",
              "\n",
              "    .dataframe tbody tr th {\n",
              "        vertical-align: top;\n",
              "    }\n",
              "\n",
              "    .dataframe thead th {\n",
              "        text-align: right;\n",
              "    }\n",
              "</style>\n",
              "<table border=\"1\" class=\"dataframe\">\n",
              "  <thead>\n",
              "    <tr style=\"text-align: right;\">\n",
              "      <th></th>\n",
              "      <th>retornos</th>\n",
              "    </tr>\n",
              "  </thead>\n",
              "  <tbody>\n",
              "    <tr>\n",
              "      <th>Itau</th>\n",
              "      <td>1.108440</td>\n",
              "    </tr>\n",
              "    <tr>\n",
              "      <th>Banco_do_Brasil</th>\n",
              "      <td>1.456787</td>\n",
              "    </tr>\n",
              "    <tr>\n",
              "      <th>Bradesco</th>\n",
              "      <td>1.201308</td>\n",
              "    </tr>\n",
              "    <tr>\n",
              "      <th>Santander</th>\n",
              "      <td>1.857463</td>\n",
              "    </tr>\n",
              "    <tr>\n",
              "      <th>Ibovespa</th>\n",
              "      <td>0.540096</td>\n",
              "    </tr>\n",
              "  </tbody>\n",
              "</table>\n",
              "</div>"
            ],
            "text/plain": [
              "                 retornos\n",
              "Itau             1.108440\n",
              "Banco_do_Brasil  1.456787\n",
              "Bradesco         1.201308\n",
              "Santander        1.857463\n",
              "Ibovespa         0.540096"
            ]
          },
          "execution_count": 9,
          "metadata": {},
          "output_type": "execute_result"
        }
      ],
      "source": [
        "df_retornos = pd.DataFrame(data = {'retornos': [retorno_itau, retorno_banco_brasil, \n",
        "                                   retorno_bradesco, retorno_santander, retorno_mercado]}, \n",
        "                           index = [\"Itau\", \"Banco_do_Brasil\", \"Bradesco\", \"Santander\", \"Ibovespa\"])\n",
        "\n",
        "df_retornos"
      ]
    },
    {
      "cell_type": "code",
      "execution_count": null,
      "id": "7e129790",
      "metadata": {
        "id": "7e129790"
      },
      "outputs": [],
      "source": [
        "df_retornos['retornos'] = df_retornos['retornos'] * 100"
      ]
    },
    {
      "cell_type": "code",
      "execution_count": null,
      "id": "af698f94",
      "metadata": {
        "id": "af698f94"
      },
      "outputs": [],
      "source": [
        "df_retornos = df_retornos.sort_values(by = \"retornos\", ascending = False)"
      ]
    },
    {
      "cell_type": "code",
      "execution_count": null,
      "id": "ecd18900",
      "metadata": {
        "id": "ecd18900"
      },
      "outputs": [
        {
          "data": {
            "image/png": "[encoded data removed]",
            "text/plain": [
              "<Figure size 640x480 with 1 Axes>"
            ]
          },
          "metadata": {},
          "output_type": "display_data"
        }
      ],
      "source": [
        "fig, ax = plt.subplots()\n",
        "\n",
        "ax.bar(df_retornos.index , df_retornos['retornos'])\n",
        "ax.yaxis.set_major_formatter(mtick.PercentFormatter())\n",
        "\n",
        "plt.xticks(fontsize = 9)\n",
        "\n",
        "plt.show()"
      ]
    },
    {
      "cell_type": "code",
      "execution_count": null,
      "id": "e916e214",
      "metadata": {
        "id": "e916e214",
        "scrolled": true
      },
      "outputs": [
        {
          "data": {
            "text/plain": [
              "santander          729.931021\n",
              "bradesco           173.900594\n",
              "itau               148.226612\n",
              "banco_do_brasil     94.238574\n",
              "dtype: float64"
            ]
          },
          "execution_count": 13,
          "metadata": {},
          "output_type": "execute_result"
        }
      ],
      "source": [
        "var_lucro_bancos = lucro_bancos.iloc[-1]/lucro_bancos.iloc[0] - 1\n",
        "\n",
        "var_lucro_bancos = var_lucro_bancos  * 100\n",
        "\n",
        "var_lucro_bancos = var_lucro_bancos.sort_values(ascending = False)\n",
        "\n",
        "var_lucro_bancos"
      ]
    },
    {
      "cell_type": "code",
      "execution_count": null,
      "id": "356f3e63",
      "metadata": {
        "id": "356f3e63"
      },
      "outputs": [
        {
          "data": {
            "image/png": "[encoded data removed]",
            "text/plain": [
              "<Figure size 640x480 with 1 Axes>"
            ]
          },
          "metadata": {},
          "output_type": "display_data"
        }
      ],
      "source": [
        "fig, ax = plt.subplots()\n",
        "\n",
        "ax.bar(var_lucro_bancos.index , var_lucro_bancos)\n",
        "ax.yaxis.set_major_formatter(mtick.PercentFormatter())\n",
        "\n",
        "plt.xticks(fontsize = 9)\n",
        "\n",
        "plt.show()"
      ]
    },
    {
      "cell_type": "code",
      "execution_count": null,
      "id": "d2ed6462",
      "metadata": {
        "id": "d2ed6462",
        "outputId": "afd64972-af7c-4d20-dc0a-b73075b47799",
        "scrolled": true
      },
      "outputs": [
        {
          "data": {
            "image/png": "[encoded data removed]",
            "text/plain": [
              "<Figure size 640x480 with 1 Axes>"
            ]
          },
          "metadata": {},
          "output_type": "display_data"
        }
      ],
      "source": [
        "fig, ax = plt.subplots()\n",
        "\n",
        "ax.bar(df_retornos.index , df_retornos['retornos'])\n",
        "ax.yaxis.set_major_formatter(mtick.PercentFormatter())\n",
        "\n",
        "plt.xticks(fontsize = 9)\n",
        "\n",
        "plt.show()"
      ]
    },
    {
      "attachments": {},
      "cell_type": "markdown",
      "id": "3e41a816",
      "metadata": {},
      "source": [
        "# Testando correlação"
      ]
    },
    {
      "attachments": {},
      "cell_type": "markdown",
      "id": "add571cf",
      "metadata": {},
      "source": [
        "A fazer depois de conseguir importar os dados históricos dos resultados"
      ]
    }
  ],
  "metadata": {
    "colab": {
      "provenance": []
    },
    "kernelspec": {
      "display_name": "Python 3 (ipykernel)",
      "language": "python",
      "name": "python3"
    },
    "language_info": {
      "codemirror_mode": {
        "name": "ipython",
        "version": 3
      },
      "file_extension": ".py",
      "mimetype": "text/x-python",
      "name": "python",
      "nbconvert_exporter": "python",
      "pygments_lexer": "ipython3",
      "version": "3.11.1"
    }
  },
  "nbformat": 4,
  "nbformat_minor": 5
}
