{
 "cells": [
  {
   "attachments": {},
   "cell_type": "markdown",
   "metadata": {},
   "source": [
    "# 1.Importando libs"
   ]
  },
  {
   "cell_type": "code",
   "execution_count": 1,
   "metadata": {},
   "outputs": [],
   "source": [
    "import pandas as pd\n",
    "import numpy as np\n",
    "import matplotlib.pyplot as plt\n",
    "from scipy import stats"
   ]
  },
  {
   "attachments": {},
   "cell_type": "markdown",
   "metadata": {},
   "source": [
    "# 2.Importando dados"
   ]
  },
  {
   "cell_type": "code",
   "execution_count": 2,
   "metadata": {},
   "outputs": [
    {
     "data": {
      "text/html": [
       "<div>\n",
       "<style scoped>\n",
       "    .dataframe tbody tr th:only-of-type {\n",
       "        vertical-align: middle;\n",
       "    }\n",
       "\n",
       "    .dataframe tbody tr th {\n",
       "        vertical-align: top;\n",
       "    }\n",
       "\n",
       "    .dataframe thead th {\n",
       "        text-align: right;\n",
       "    }\n",
       "</style>\n",
       "<table border=\"1\" class=\"dataframe\">\n",
       "  <thead>\n",
       "    <tr style=\"text-align: right;\">\n",
       "      <th></th>\n",
       "      <th>Faturamento</th>\n",
       "    </tr>\n",
       "    <tr>\n",
       "      <th>Data</th>\n",
       "      <th></th>\n",
       "    </tr>\n",
       "  </thead>\n",
       "  <tbody>\n",
       "    <tr>\n",
       "      <th>2022-03-30</th>\n",
       "      <td>4.004946e+07</td>\n",
       "    </tr>\n",
       "    <tr>\n",
       "      <th>2022-04-30</th>\n",
       "      <td>4.143103e+07</td>\n",
       "    </tr>\n",
       "    <tr>\n",
       "      <th>2022-05-30</th>\n",
       "      <td>4.350258e+07</td>\n",
       "    </tr>\n",
       "    <tr>\n",
       "      <th>2022-06-30</th>\n",
       "      <td>4.638311e+07</td>\n",
       "    </tr>\n",
       "    <tr>\n",
       "      <th>2022-07-30</th>\n",
       "      <td>4.777460e+07</td>\n",
       "    </tr>\n",
       "    <tr>\n",
       "      <th>2022-08-30</th>\n",
       "      <td>4.910578e+07</td>\n",
       "    </tr>\n",
       "    <tr>\n",
       "      <th>2022-09-30</th>\n",
       "      <td>5.142862e+07</td>\n",
       "    </tr>\n",
       "    <tr>\n",
       "      <th>2022-10-30</th>\n",
       "      <td>5.110742e+07</td>\n",
       "    </tr>\n",
       "    <tr>\n",
       "      <th>2022-11-30</th>\n",
       "      <td>4.921360e+07</td>\n",
       "    </tr>\n",
       "    <tr>\n",
       "      <th>2022-12-30</th>\n",
       "      <td>4.735210e+07</td>\n",
       "    </tr>\n",
       "    <tr>\n",
       "      <th>2023-01-30</th>\n",
       "      <td>4.227095e+07</td>\n",
       "    </tr>\n",
       "  </tbody>\n",
       "</table>\n",
       "</div>"
      ],
      "text/plain": [
       "             Faturamento\n",
       "Data                    \n",
       "2022-03-30  4.004946e+07\n",
       "2022-04-30  4.143103e+07\n",
       "2022-05-30  4.350258e+07\n",
       "2022-06-30  4.638311e+07\n",
       "2022-07-30  4.777460e+07\n",
       "2022-08-30  4.910578e+07\n",
       "2022-09-30  5.142862e+07\n",
       "2022-10-30  5.110742e+07\n",
       "2022-11-30  4.921360e+07\n",
       "2022-12-30  4.735210e+07\n",
       "2023-01-30  4.227095e+07"
      ]
     },
     "execution_count": 2,
     "metadata": {},
     "output_type": "execute_result"
    }
   ],
   "source": [
    "faturamento_total = pd.read_excel(\"apoio_case_1.xlsx\", sheet_name='Faturamento_total', index_col=\"Data\")\n",
    "faturamento_sp1 = pd.read_excel(\"apoio_case_1.xlsx\", sheet_name='Faturamento_Regiao_SP_1', index_col=\"Data\")\n",
    "faturamento_sp2 = pd.read_excel(\"apoio_case_1.xlsx\", sheet_name='Faturamento_Regiao_SP_2', index_col=\"Data\")\n",
    "faturamento_rj = pd.read_excel(\"apoio_case_1.xlsx\", sheet_name='Faturamento_Regiao_RJ', index_col=\"Data\")\n",
    "pesquisa_sp1 = pd.read_excel(\"apoio_case_1.xlsx\", sheet_name='Pesquisa_SP_1', index_col=\"Região SP 1\")\n",
    "pesquisa_sp2 = pd.read_excel(\"apoio_case_1.xlsx\", sheet_name='Pesquisa_SP_2', index_col=\"Região SP 2\")\n",
    "pesquisa_rj = pd.read_excel(\"apoio_case_1.xlsx\", sheet_name='Pesquisa_RJ_1', index_col=\"Região RJ 1\")\n",
    "\n",
    "faturamento_total"
   ]
  },
  {
   "attachments": {},
   "cell_type": "markdown",
   "metadata": {},
   "source": [
    "# 3.Organizando dados"
   ]
  },
  {
   "attachments": {},
   "cell_type": "markdown",
   "metadata": {},
   "source": [
    "### 3.1.Trocando as linhas por colunas da pesquisa"
   ]
  },
  {
   "cell_type": "code",
   "execution_count": 3,
   "metadata": {},
   "outputs": [
    {
     "data": {
      "text/html": [
       "<div>\n",
       "<style scoped>\n",
       "    .dataframe tbody tr th:only-of-type {\n",
       "        vertical-align: middle;\n",
       "    }\n",
       "\n",
       "    .dataframe tbody tr th {\n",
       "        vertical-align: top;\n",
       "    }\n",
       "\n",
       "    .dataframe thead th {\n",
       "        text-align: right;\n",
       "    }\n",
       "</style>\n",
       "<table border=\"1\" class=\"dataframe\">\n",
       "  <thead>\n",
       "    <tr style=\"text-align: right;\">\n",
       "      <th>Região SP 1</th>\n",
       "      <th>Localização conveniente</th>\n",
       "      <th>Temperatura do café</th>\n",
       "      <th>Funcionários gentis</th>\n",
       "      <th>Preço do café</th>\n",
       "      <th>Meu café favorito</th>\n",
       "    </tr>\n",
       "  </thead>\n",
       "  <tbody>\n",
       "    <tr>\n",
       "      <th>2022-07-30</th>\n",
       "      <td>4.0</td>\n",
       "      <td>4.6</td>\n",
       "      <td>4.6</td>\n",
       "      <td>4.1</td>\n",
       "      <td>4.1</td>\n",
       "    </tr>\n",
       "    <tr>\n",
       "      <th>2022-08-30</th>\n",
       "      <td>4.1</td>\n",
       "      <td>4.4</td>\n",
       "      <td>4.5</td>\n",
       "      <td>4.0</td>\n",
       "      <td>4.2</td>\n",
       "    </tr>\n",
       "    <tr>\n",
       "      <th>2022-09-30</th>\n",
       "      <td>4.6</td>\n",
       "      <td>4.0</td>\n",
       "      <td>4.5</td>\n",
       "      <td>4.2</td>\n",
       "      <td>4.2</td>\n",
       "    </tr>\n",
       "    <tr>\n",
       "      <th>2022-10-30</th>\n",
       "      <td>4.5</td>\n",
       "      <td>4.1</td>\n",
       "      <td>4.6</td>\n",
       "      <td>4.2</td>\n",
       "      <td>4.3</td>\n",
       "    </tr>\n",
       "    <tr>\n",
       "      <th>2022-11-30</th>\n",
       "      <td>4.5</td>\n",
       "      <td>4.1</td>\n",
       "      <td>4.4</td>\n",
       "      <td>4.1</td>\n",
       "      <td>4.2</td>\n",
       "    </tr>\n",
       "    <tr>\n",
       "      <th>2022-12-30</th>\n",
       "      <td>4.2</td>\n",
       "      <td>4.2</td>\n",
       "      <td>4.1</td>\n",
       "      <td>4.0</td>\n",
       "      <td>4.1</td>\n",
       "    </tr>\n",
       "    <tr>\n",
       "      <th>2023-01-30</th>\n",
       "      <td>4.3</td>\n",
       "      <td>4.2</td>\n",
       "      <td>4.3</td>\n",
       "      <td>4.2</td>\n",
       "      <td>4.2</td>\n",
       "    </tr>\n",
       "  </tbody>\n",
       "</table>\n",
       "</div>"
      ],
      "text/plain": [
       "Região SP 1  Localização conveniente  Temperatura do café  \\\n",
       "2022-07-30                       4.0                  4.6   \n",
       "2022-08-30                       4.1                  4.4   \n",
       "2022-09-30                       4.6                  4.0   \n",
       "2022-10-30                       4.5                  4.1   \n",
       "2022-11-30                       4.5                  4.1   \n",
       "2022-12-30                       4.2                  4.2   \n",
       "2023-01-30                       4.3                  4.2   \n",
       "\n",
       "Região SP 1  Funcionários gentis  Preço do café  Meu café favorito  \n",
       "2022-07-30                   4.6            4.1                4.1  \n",
       "2022-08-30                   4.5            4.0                4.2  \n",
       "2022-09-30                   4.5            4.2                4.2  \n",
       "2022-10-30                   4.6            4.2                4.3  \n",
       "2022-11-30                   4.4            4.1                4.2  \n",
       "2022-12-30                   4.1            4.0                4.1  \n",
       "2023-01-30                   4.3            4.2                4.2  "
      ]
     },
     "execution_count": 3,
     "metadata": {},
     "output_type": "execute_result"
    }
   ],
   "source": [
    "pesquisa_sp1 = pesquisa_sp1.T\n",
    "pesquisa_sp2 = pesquisa_sp2.T\n",
    "pesquisa_rj = pesquisa_rj.T\n",
    "pesquisa_sp1.index = pd.to_datetime(pesquisa_sp1.index)\n",
    "pesquisa_sp2.index = pd.to_datetime(pesquisa_sp2.index)\n",
    "pesquisa_rj.index = pd.to_datetime(pesquisa_rj.index)\n",
    "pesquisa_sp1"
   ]
  },
  {
   "attachments": {},
   "cell_type": "markdown",
   "metadata": {},
   "source": [
    "### 3.2.Juntando por loja"
   ]
  },
  {
   "cell_type": "code",
   "execution_count": 4,
   "metadata": {},
   "outputs": [
    {
     "data": {
      "text/html": [
       "<div>\n",
       "<style scoped>\n",
       "    .dataframe tbody tr th:only-of-type {\n",
       "        vertical-align: middle;\n",
       "    }\n",
       "\n",
       "    .dataframe tbody tr th {\n",
       "        vertical-align: top;\n",
       "    }\n",
       "\n",
       "    .dataframe thead th {\n",
       "        text-align: right;\n",
       "    }\n",
       "</style>\n",
       "<table border=\"1\" class=\"dataframe\">\n",
       "  <thead>\n",
       "    <tr style=\"text-align: right;\">\n",
       "      <th></th>\n",
       "      <th>Faturamento SP 1</th>\n",
       "      <th>Loc SP 1</th>\n",
       "      <th>Temp SP 1</th>\n",
       "      <th>Func SP 1</th>\n",
       "      <th>Preço SP 1</th>\n",
       "      <th>Fav SP 1</th>\n",
       "    </tr>\n",
       "  </thead>\n",
       "  <tbody>\n",
       "    <tr>\n",
       "      <th>2022-07-30</th>\n",
       "      <td>15038257.0</td>\n",
       "      <td>4.0</td>\n",
       "      <td>4.6</td>\n",
       "      <td>4.6</td>\n",
       "      <td>4.1</td>\n",
       "      <td>4.1</td>\n",
       "    </tr>\n",
       "    <tr>\n",
       "      <th>2022-08-30</th>\n",
       "      <td>15489405.0</td>\n",
       "      <td>4.1</td>\n",
       "      <td>4.4</td>\n",
       "      <td>4.5</td>\n",
       "      <td>4.0</td>\n",
       "      <td>4.2</td>\n",
       "    </tr>\n",
       "    <tr>\n",
       "      <th>2022-09-30</th>\n",
       "      <td>16263875.0</td>\n",
       "      <td>4.6</td>\n",
       "      <td>4.0</td>\n",
       "      <td>4.5</td>\n",
       "      <td>4.2</td>\n",
       "      <td>4.2</td>\n",
       "    </tr>\n",
       "    <tr>\n",
       "      <th>2022-10-30</th>\n",
       "      <td>16751791.0</td>\n",
       "      <td>4.5</td>\n",
       "      <td>4.1</td>\n",
       "      <td>4.6</td>\n",
       "      <td>4.2</td>\n",
       "      <td>4.3</td>\n",
       "    </tr>\n",
       "    <tr>\n",
       "      <th>2022-11-30</th>\n",
       "      <td>16919309.0</td>\n",
       "      <td>4.5</td>\n",
       "      <td>4.1</td>\n",
       "      <td>4.4</td>\n",
       "      <td>4.1</td>\n",
       "      <td>4.2</td>\n",
       "    </tr>\n",
       "    <tr>\n",
       "      <th>2022-12-30</th>\n",
       "      <td>17765275.0</td>\n",
       "      <td>4.2</td>\n",
       "      <td>4.2</td>\n",
       "      <td>4.1</td>\n",
       "      <td>4.0</td>\n",
       "      <td>4.1</td>\n",
       "    </tr>\n",
       "    <tr>\n",
       "      <th>2023-01-30</th>\n",
       "      <td>17768264.0</td>\n",
       "      <td>4.3</td>\n",
       "      <td>4.2</td>\n",
       "      <td>4.3</td>\n",
       "      <td>4.2</td>\n",
       "      <td>4.2</td>\n",
       "    </tr>\n",
       "  </tbody>\n",
       "</table>\n",
       "</div>"
      ],
      "text/plain": [
       "            Faturamento SP 1  Loc SP 1  Temp SP 1  Func SP 1  Preço SP 1  \\\n",
       "2022-07-30        15038257.0       4.0        4.6        4.6         4.1   \n",
       "2022-08-30        15489405.0       4.1        4.4        4.5         4.0   \n",
       "2022-09-30        16263875.0       4.6        4.0        4.5         4.2   \n",
       "2022-10-30        16751791.0       4.5        4.1        4.6         4.2   \n",
       "2022-11-30        16919309.0       4.5        4.1        4.4         4.1   \n",
       "2022-12-30        17765275.0       4.2        4.2        4.1         4.0   \n",
       "2023-01-30        17768264.0       4.3        4.2        4.3         4.2   \n",
       "\n",
       "            Fav SP 1  \n",
       "2022-07-30       4.1  \n",
       "2022-08-30       4.2  \n",
       "2022-09-30       4.2  \n",
       "2022-10-30       4.3  \n",
       "2022-11-30       4.2  \n",
       "2022-12-30       4.1  \n",
       "2023-01-30       4.2  "
      ]
     },
     "execution_count": 4,
     "metadata": {},
     "output_type": "execute_result"
    }
   ],
   "source": [
    "faturamento_total.index = pd.to_datetime(faturamento_total.index)\n",
    "faturamento_sp1.index = pd.to_datetime(faturamento_sp1.index)\n",
    "faturamento_sp2.index = pd.to_datetime(faturamento_sp2.index)\n",
    "faturamento_rj.index = pd.to_datetime(faturamento_rj.index)\n",
    "\n",
    "dados_sp1 = pd.merge(faturamento_sp1, pesquisa_sp1, left_index=True, right_index=True)\n",
    "dados_sp1.columns = ['Faturamento SP 1', 'Loc SP 1', 'Temp SP 1', 'Func SP 1', 'Preço SP 1', 'Fav SP 1']\n",
    "\n",
    "dados_sp2 = pd.merge(faturamento_sp2, pesquisa_sp2, left_index=True, right_index=True)\n",
    "dados_sp2.columns = ['Faturamento SP 2', 'Loc SP 2', 'Temp SP 2', 'Func SP 2', 'Preço SP 2', 'Fav SP 2']\n",
    "\n",
    "dados_rj = pd.merge(faturamento_rj, pesquisa_rj, left_index=True, right_index=True)\n",
    "dados_rj.columns = ['Faturamento RJ', 'Loc RJ', 'Temp RJ', 'Func RJ', 'Preço RJ', 'Fav RJ']\n",
    "\n",
    "dados_sp1"
   ]
  },
  {
   "attachments": {},
   "cell_type": "markdown",
   "metadata": {},
   "source": [
    "### 3.3.Juntando todos"
   ]
  },
  {
   "cell_type": "code",
   "execution_count": 5,
   "metadata": {},
   "outputs": [
    {
     "data": {
      "text/html": [
       "<div>\n",
       "<style scoped>\n",
       "    .dataframe tbody tr th:only-of-type {\n",
       "        vertical-align: middle;\n",
       "    }\n",
       "\n",
       "    .dataframe tbody tr th {\n",
       "        vertical-align: top;\n",
       "    }\n",
       "\n",
       "    .dataframe thead th {\n",
       "        text-align: right;\n",
       "    }\n",
       "</style>\n",
       "<table border=\"1\" class=\"dataframe\">\n",
       "  <thead>\n",
       "    <tr style=\"text-align: right;\">\n",
       "      <th></th>\n",
       "      <th>Faturamento total</th>\n",
       "      <th>Faturamento SP 1</th>\n",
       "      <th>Loc SP 1</th>\n",
       "      <th>Temp SP 1</th>\n",
       "      <th>Func SP 1</th>\n",
       "      <th>Preço SP 1</th>\n",
       "      <th>Fav SP 1</th>\n",
       "      <th>Faturamento SP 2</th>\n",
       "      <th>Loc SP 2</th>\n",
       "      <th>Temp SP 2</th>\n",
       "      <th>Func SP 2</th>\n",
       "      <th>Preço SP 2</th>\n",
       "      <th>Fav SP 2</th>\n",
       "      <th>Faturamento RJ</th>\n",
       "      <th>Loc RJ</th>\n",
       "      <th>Temp RJ</th>\n",
       "      <th>Func RJ</th>\n",
       "      <th>Preço RJ</th>\n",
       "      <th>Fav RJ</th>\n",
       "    </tr>\n",
       "    <tr>\n",
       "      <th>Data</th>\n",
       "      <th></th>\n",
       "      <th></th>\n",
       "      <th></th>\n",
       "      <th></th>\n",
       "      <th></th>\n",
       "      <th></th>\n",
       "      <th></th>\n",
       "      <th></th>\n",
       "      <th></th>\n",
       "      <th></th>\n",
       "      <th></th>\n",
       "      <th></th>\n",
       "      <th></th>\n",
       "      <th></th>\n",
       "      <th></th>\n",
       "      <th></th>\n",
       "      <th></th>\n",
       "      <th></th>\n",
       "      <th></th>\n",
       "    </tr>\n",
       "  </thead>\n",
       "  <tbody>\n",
       "    <tr>\n",
       "      <th>2022-07-30</th>\n",
       "      <td>47774599.0</td>\n",
       "      <td>15038257.0</td>\n",
       "      <td>4.0</td>\n",
       "      <td>4.6</td>\n",
       "      <td>4.6</td>\n",
       "      <td>4.1</td>\n",
       "      <td>4.1</td>\n",
       "      <td>21471650.0</td>\n",
       "      <td>4.3</td>\n",
       "      <td>4.8</td>\n",
       "      <td>4.3</td>\n",
       "      <td>4.1</td>\n",
       "      <td>4.0</td>\n",
       "      <td>11264692</td>\n",
       "      <td>3.8</td>\n",
       "      <td>4.6</td>\n",
       "      <td>4.0</td>\n",
       "      <td>4.2</td>\n",
       "      <td>4.1</td>\n",
       "    </tr>\n",
       "    <tr>\n",
       "      <th>2022-08-30</th>\n",
       "      <td>49105775.0</td>\n",
       "      <td>15489405.0</td>\n",
       "      <td>4.1</td>\n",
       "      <td>4.4</td>\n",
       "      <td>4.5</td>\n",
       "      <td>4.0</td>\n",
       "      <td>4.2</td>\n",
       "      <td>21901090.0</td>\n",
       "      <td>4.2</td>\n",
       "      <td>4.5</td>\n",
       "      <td>4.2</td>\n",
       "      <td>4.3</td>\n",
       "      <td>3.9</td>\n",
       "      <td>11715280</td>\n",
       "      <td>4.0</td>\n",
       "      <td>4.7</td>\n",
       "      <td>4.0</td>\n",
       "      <td>4.4</td>\n",
       "      <td>4.2</td>\n",
       "    </tr>\n",
       "    <tr>\n",
       "      <th>2022-09-30</th>\n",
       "      <td>51428617.0</td>\n",
       "      <td>16263875.0</td>\n",
       "      <td>4.6</td>\n",
       "      <td>4.0</td>\n",
       "      <td>4.5</td>\n",
       "      <td>4.2</td>\n",
       "      <td>4.2</td>\n",
       "      <td>23215156.0</td>\n",
       "      <td>4.4</td>\n",
       "      <td>4.4</td>\n",
       "      <td>4.3</td>\n",
       "      <td>4.1</td>\n",
       "      <td>4.1</td>\n",
       "      <td>11949586</td>\n",
       "      <td>3.9</td>\n",
       "      <td>4.5</td>\n",
       "      <td>4.0</td>\n",
       "      <td>4.4</td>\n",
       "      <td>4.2</td>\n",
       "    </tr>\n",
       "    <tr>\n",
       "      <th>2022-10-30</th>\n",
       "      <td>51107423.0</td>\n",
       "      <td>16751791.0</td>\n",
       "      <td>4.5</td>\n",
       "      <td>4.1</td>\n",
       "      <td>4.6</td>\n",
       "      <td>4.2</td>\n",
       "      <td>4.3</td>\n",
       "      <td>22286550.0</td>\n",
       "      <td>4.2</td>\n",
       "      <td>4.6</td>\n",
       "      <td>4.1</td>\n",
       "      <td>3.7</td>\n",
       "      <td>4.2</td>\n",
       "      <td>12069082</td>\n",
       "      <td>3.9</td>\n",
       "      <td>4.7</td>\n",
       "      <td>3.9</td>\n",
       "      <td>4.4</td>\n",
       "      <td>4.3</td>\n",
       "    </tr>\n",
       "    <tr>\n",
       "      <th>2022-11-30</th>\n",
       "      <td>49213603.0</td>\n",
       "      <td>16919309.0</td>\n",
       "      <td>4.5</td>\n",
       "      <td>4.1</td>\n",
       "      <td>4.4</td>\n",
       "      <td>4.1</td>\n",
       "      <td>4.2</td>\n",
       "      <td>20949357.0</td>\n",
       "      <td>4.1</td>\n",
       "      <td>4.6</td>\n",
       "      <td>4.4</td>\n",
       "      <td>3.3</td>\n",
       "      <td>4.2</td>\n",
       "      <td>11344937</td>\n",
       "      <td>3.9</td>\n",
       "      <td>4.5</td>\n",
       "      <td>4.1</td>\n",
       "      <td>4.4</td>\n",
       "      <td>4.2</td>\n",
       "    </tr>\n",
       "    <tr>\n",
       "      <th>2022-12-30</th>\n",
       "      <td>47352100.0</td>\n",
       "      <td>17765275.0</td>\n",
       "      <td>4.2</td>\n",
       "      <td>4.2</td>\n",
       "      <td>4.1</td>\n",
       "      <td>4.0</td>\n",
       "      <td>4.1</td>\n",
       "      <td>17901540.0</td>\n",
       "      <td>4.2</td>\n",
       "      <td>4.7</td>\n",
       "      <td>4.5</td>\n",
       "      <td>3.1</td>\n",
       "      <td>4.1</td>\n",
       "      <td>11685285</td>\n",
       "      <td>4.0</td>\n",
       "      <td>4.8</td>\n",
       "      <td>4.0</td>\n",
       "      <td>4.4</td>\n",
       "      <td>4.1</td>\n",
       "    </tr>\n",
       "    <tr>\n",
       "      <th>2023-01-30</th>\n",
       "      <td>42270952.0</td>\n",
       "      <td>17768264.0</td>\n",
       "      <td>4.3</td>\n",
       "      <td>4.2</td>\n",
       "      <td>4.3</td>\n",
       "      <td>4.2</td>\n",
       "      <td>4.2</td>\n",
       "      <td>12700550.0</td>\n",
       "      <td>4.3</td>\n",
       "      <td>4.8</td>\n",
       "      <td>4.2</td>\n",
       "      <td>2.8</td>\n",
       "      <td>4.0</td>\n",
       "      <td>11802138</td>\n",
       "      <td>4.0</td>\n",
       "      <td>4.6</td>\n",
       "      <td>4.1</td>\n",
       "      <td>4.2</td>\n",
       "      <td>4.3</td>\n",
       "    </tr>\n",
       "  </tbody>\n",
       "</table>\n",
       "</div>"
      ],
      "text/plain": [
       "            Faturamento total  Faturamento SP 1  Loc SP 1  Temp SP 1  \\\n",
       "Data                                                                   \n",
       "2022-07-30         47774599.0        15038257.0       4.0        4.6   \n",
       "2022-08-30         49105775.0        15489405.0       4.1        4.4   \n",
       "2022-09-30         51428617.0        16263875.0       4.6        4.0   \n",
       "2022-10-30         51107423.0        16751791.0       4.5        4.1   \n",
       "2022-11-30         49213603.0        16919309.0       4.5        4.1   \n",
       "2022-12-30         47352100.0        17765275.0       4.2        4.2   \n",
       "2023-01-30         42270952.0        17768264.0       4.3        4.2   \n",
       "\n",
       "            Func SP 1  Preço SP 1  Fav SP 1  Faturamento SP 2  Loc SP 2  \\\n",
       "Data                                                                      \n",
       "2022-07-30        4.6         4.1       4.1        21471650.0       4.3   \n",
       "2022-08-30        4.5         4.0       4.2        21901090.0       4.2   \n",
       "2022-09-30        4.5         4.2       4.2        23215156.0       4.4   \n",
       "2022-10-30        4.6         4.2       4.3        22286550.0       4.2   \n",
       "2022-11-30        4.4         4.1       4.2        20949357.0       4.1   \n",
       "2022-12-30        4.1         4.0       4.1        17901540.0       4.2   \n",
       "2023-01-30        4.3         4.2       4.2        12700550.0       4.3   \n",
       "\n",
       "            Temp SP 2  Func SP 2  Preço SP 2  Fav SP 2  Faturamento RJ  \\\n",
       "Data                                                                     \n",
       "2022-07-30        4.8        4.3         4.1       4.0        11264692   \n",
       "2022-08-30        4.5        4.2         4.3       3.9        11715280   \n",
       "2022-09-30        4.4        4.3         4.1       4.1        11949586   \n",
       "2022-10-30        4.6        4.1         3.7       4.2        12069082   \n",
       "2022-11-30        4.6        4.4         3.3       4.2        11344937   \n",
       "2022-12-30        4.7        4.5         3.1       4.1        11685285   \n",
       "2023-01-30        4.8        4.2         2.8       4.0        11802138   \n",
       "\n",
       "            Loc RJ  Temp RJ  Func RJ  Preço RJ  Fav RJ  \n",
       "Data                                                    \n",
       "2022-07-30     3.8      4.6      4.0       4.2     4.1  \n",
       "2022-08-30     4.0      4.7      4.0       4.4     4.2  \n",
       "2022-09-30     3.9      4.5      4.0       4.4     4.2  \n",
       "2022-10-30     3.9      4.7      3.9       4.4     4.3  \n",
       "2022-11-30     3.9      4.5      4.1       4.4     4.2  \n",
       "2022-12-30     4.0      4.8      4.0       4.4     4.1  \n",
       "2023-01-30     4.0      4.6      4.1       4.2     4.3  "
      ]
     },
     "execution_count": 5,
     "metadata": {},
     "output_type": "execute_result"
    }
   ],
   "source": [
    "dados_gerais = pd.merge(faturamento_total, dados_sp1, left_index=True, right_index=True)\n",
    "dados_gerais = pd.merge(dados_gerais, dados_sp2, left_index=True, right_index=True)\n",
    "dados_gerais = pd.merge(dados_gerais, dados_rj, left_index=True, right_index=True)\n",
    "\n",
    "dados_gerais.rename(columns={'Faturamento': 'Faturamento total'}, inplace=True)\n",
    "dados_gerais.index.name = 'Data'\n",
    "\n",
    "dados_gerais"
   ]
  },
  {
   "attachments": {},
   "cell_type": "markdown",
   "metadata": {},
   "source": [
    "Como vemos que o faturamento de sp1 só cresce e rj se mantém relativamente constante, vão ser usados como verificação. Vamos focar no que acontece com sp2 que é o que apresenta maior queda de faturamento."
   ]
  },
  {
   "attachments": {},
   "cell_type": "markdown",
   "metadata": {},
   "source": [
    "# 4. Estatística Descritiva por loja"
   ]
  },
  {
   "cell_type": "code",
   "execution_count": 6,
   "metadata": {},
   "outputs": [
    {
     "data": {
      "text/html": [
       "<div>\n",
       "<style scoped>\n",
       "    .dataframe tbody tr th:only-of-type {\n",
       "        vertical-align: middle;\n",
       "    }\n",
       "\n",
       "    .dataframe tbody tr th {\n",
       "        vertical-align: top;\n",
       "    }\n",
       "\n",
       "    .dataframe thead th {\n",
       "        text-align: right;\n",
       "    }\n",
       "</style>\n",
       "<table border=\"1\" class=\"dataframe\">\n",
       "  <thead>\n",
       "    <tr style=\"text-align: right;\">\n",
       "      <th></th>\n",
       "      <th>Faturamento SP 1</th>\n",
       "      <th>Loc SP 1</th>\n",
       "      <th>Temp SP 1</th>\n",
       "      <th>Func SP 1</th>\n",
       "      <th>Preço SP 1</th>\n",
       "      <th>Fav SP 1</th>\n",
       "    </tr>\n",
       "  </thead>\n",
       "  <tbody>\n",
       "    <tr>\n",
       "      <th>count</th>\n",
       "      <td>7.000000e+00</td>\n",
       "      <td>7.000000</td>\n",
       "      <td>7.000000</td>\n",
       "      <td>7.000000</td>\n",
       "      <td>7.000000</td>\n",
       "      <td>7.000000</td>\n",
       "    </tr>\n",
       "    <tr>\n",
       "      <th>mean</th>\n",
       "      <td>1.657088e+07</td>\n",
       "      <td>4.314286</td>\n",
       "      <td>4.228571</td>\n",
       "      <td>4.428571</td>\n",
       "      <td>4.114286</td>\n",
       "      <td>4.185714</td>\n",
       "    </tr>\n",
       "    <tr>\n",
       "      <th>std</th>\n",
       "      <td>1.050969e+06</td>\n",
       "      <td>0.226779</td>\n",
       "      <td>0.205866</td>\n",
       "      <td>0.179947</td>\n",
       "      <td>0.089974</td>\n",
       "      <td>0.069007</td>\n",
       "    </tr>\n",
       "    <tr>\n",
       "      <th>min</th>\n",
       "      <td>1.503826e+07</td>\n",
       "      <td>4.000000</td>\n",
       "      <td>4.000000</td>\n",
       "      <td>4.100000</td>\n",
       "      <td>4.000000</td>\n",
       "      <td>4.100000</td>\n",
       "    </tr>\n",
       "    <tr>\n",
       "      <th>25%</th>\n",
       "      <td>1.587664e+07</td>\n",
       "      <td>4.150000</td>\n",
       "      <td>4.100000</td>\n",
       "      <td>4.350000</td>\n",
       "      <td>4.050000</td>\n",
       "      <td>4.150000</td>\n",
       "    </tr>\n",
       "    <tr>\n",
       "      <th>50%</th>\n",
       "      <td>1.675179e+07</td>\n",
       "      <td>4.300000</td>\n",
       "      <td>4.200000</td>\n",
       "      <td>4.500000</td>\n",
       "      <td>4.100000</td>\n",
       "      <td>4.200000</td>\n",
       "    </tr>\n",
       "    <tr>\n",
       "      <th>75%</th>\n",
       "      <td>1.734229e+07</td>\n",
       "      <td>4.500000</td>\n",
       "      <td>4.300000</td>\n",
       "      <td>4.550000</td>\n",
       "      <td>4.200000</td>\n",
       "      <td>4.200000</td>\n",
       "    </tr>\n",
       "    <tr>\n",
       "      <th>max</th>\n",
       "      <td>1.776826e+07</td>\n",
       "      <td>4.600000</td>\n",
       "      <td>4.600000</td>\n",
       "      <td>4.600000</td>\n",
       "      <td>4.200000</td>\n",
       "      <td>4.300000</td>\n",
       "    </tr>\n",
       "  </tbody>\n",
       "</table>\n",
       "</div>"
      ],
      "text/plain": [
       "       Faturamento SP 1  Loc SP 1  Temp SP 1  Func SP 1  Preço SP 1  Fav SP 1\n",
       "count      7.000000e+00  7.000000   7.000000   7.000000    7.000000  7.000000\n",
       "mean       1.657088e+07  4.314286   4.228571   4.428571    4.114286  4.185714\n",
       "std        1.050969e+06  0.226779   0.205866   0.179947    0.089974  0.069007\n",
       "min        1.503826e+07  4.000000   4.000000   4.100000    4.000000  4.100000\n",
       "25%        1.587664e+07  4.150000   4.100000   4.350000    4.050000  4.150000\n",
       "50%        1.675179e+07  4.300000   4.200000   4.500000    4.100000  4.200000\n",
       "75%        1.734229e+07  4.500000   4.300000   4.550000    4.200000  4.200000\n",
       "max        1.776826e+07  4.600000   4.600000   4.600000    4.200000  4.300000"
      ]
     },
     "execution_count": 6,
     "metadata": {},
     "output_type": "execute_result"
    }
   ],
   "source": [
    "dados_sp1.describe()"
   ]
  },
  {
   "cell_type": "code",
   "execution_count": 7,
   "metadata": {},
   "outputs": [
    {
     "data": {
      "text/html": [
       "<div>\n",
       "<style scoped>\n",
       "    .dataframe tbody tr th:only-of-type {\n",
       "        vertical-align: middle;\n",
       "    }\n",
       "\n",
       "    .dataframe tbody tr th {\n",
       "        vertical-align: top;\n",
       "    }\n",
       "\n",
       "    .dataframe thead th {\n",
       "        text-align: right;\n",
       "    }\n",
       "</style>\n",
       "<table border=\"1\" class=\"dataframe\">\n",
       "  <thead>\n",
       "    <tr style=\"text-align: right;\">\n",
       "      <th></th>\n",
       "      <th>Faturamento SP 2</th>\n",
       "      <th>Loc SP 2</th>\n",
       "      <th>Temp SP 2</th>\n",
       "      <th>Func SP 2</th>\n",
       "      <th>Preço SP 2</th>\n",
       "      <th>Fav SP 2</th>\n",
       "    </tr>\n",
       "  </thead>\n",
       "  <tbody>\n",
       "    <tr>\n",
       "      <th>count</th>\n",
       "      <td>7.000000e+00</td>\n",
       "      <td>7.000000</td>\n",
       "      <td>7.000000</td>\n",
       "      <td>7.000000</td>\n",
       "      <td>7.000000</td>\n",
       "      <td>7.000000</td>\n",
       "    </tr>\n",
       "    <tr>\n",
       "      <th>mean</th>\n",
       "      <td>2.006084e+07</td>\n",
       "      <td>4.242857</td>\n",
       "      <td>4.628571</td>\n",
       "      <td>4.285714</td>\n",
       "      <td>3.628571</td>\n",
       "      <td>4.071429</td>\n",
       "    </tr>\n",
       "    <tr>\n",
       "      <th>std</th>\n",
       "      <td>3.649345e+06</td>\n",
       "      <td>0.097590</td>\n",
       "      <td>0.149603</td>\n",
       "      <td>0.134519</td>\n",
       "      <td>0.573627</td>\n",
       "      <td>0.111270</td>\n",
       "    </tr>\n",
       "    <tr>\n",
       "      <th>min</th>\n",
       "      <td>1.270055e+07</td>\n",
       "      <td>4.100000</td>\n",
       "      <td>4.400000</td>\n",
       "      <td>4.100000</td>\n",
       "      <td>2.800000</td>\n",
       "      <td>3.900000</td>\n",
       "    </tr>\n",
       "    <tr>\n",
       "      <th>25%</th>\n",
       "      <td>1.942545e+07</td>\n",
       "      <td>4.200000</td>\n",
       "      <td>4.550000</td>\n",
       "      <td>4.200000</td>\n",
       "      <td>3.200000</td>\n",
       "      <td>4.000000</td>\n",
       "    </tr>\n",
       "    <tr>\n",
       "      <th>50%</th>\n",
       "      <td>2.147165e+07</td>\n",
       "      <td>4.200000</td>\n",
       "      <td>4.600000</td>\n",
       "      <td>4.300000</td>\n",
       "      <td>3.700000</td>\n",
       "      <td>4.100000</td>\n",
       "    </tr>\n",
       "    <tr>\n",
       "      <th>75%</th>\n",
       "      <td>2.209382e+07</td>\n",
       "      <td>4.300000</td>\n",
       "      <td>4.750000</td>\n",
       "      <td>4.350000</td>\n",
       "      <td>4.100000</td>\n",
       "      <td>4.150000</td>\n",
       "    </tr>\n",
       "    <tr>\n",
       "      <th>max</th>\n",
       "      <td>2.321516e+07</td>\n",
       "      <td>4.400000</td>\n",
       "      <td>4.800000</td>\n",
       "      <td>4.500000</td>\n",
       "      <td>4.300000</td>\n",
       "      <td>4.200000</td>\n",
       "    </tr>\n",
       "  </tbody>\n",
       "</table>\n",
       "</div>"
      ],
      "text/plain": [
       "       Faturamento SP 2  Loc SP 2  Temp SP 2  Func SP 2  Preço SP 2  Fav SP 2\n",
       "count      7.000000e+00  7.000000   7.000000   7.000000    7.000000  7.000000\n",
       "mean       2.006084e+07  4.242857   4.628571   4.285714    3.628571  4.071429\n",
       "std        3.649345e+06  0.097590   0.149603   0.134519    0.573627  0.111270\n",
       "min        1.270055e+07  4.100000   4.400000   4.100000    2.800000  3.900000\n",
       "25%        1.942545e+07  4.200000   4.550000   4.200000    3.200000  4.000000\n",
       "50%        2.147165e+07  4.200000   4.600000   4.300000    3.700000  4.100000\n",
       "75%        2.209382e+07  4.300000   4.750000   4.350000    4.100000  4.150000\n",
       "max        2.321516e+07  4.400000   4.800000   4.500000    4.300000  4.200000"
      ]
     },
     "execution_count": 7,
     "metadata": {},
     "output_type": "execute_result"
    }
   ],
   "source": [
    "dados_sp2.describe()"
   ]
  },
  {
   "cell_type": "code",
   "execution_count": 8,
   "metadata": {},
   "outputs": [
    {
     "data": {
      "text/html": [
       "<div>\n",
       "<style scoped>\n",
       "    .dataframe tbody tr th:only-of-type {\n",
       "        vertical-align: middle;\n",
       "    }\n",
       "\n",
       "    .dataframe tbody tr th {\n",
       "        vertical-align: top;\n",
       "    }\n",
       "\n",
       "    .dataframe thead th {\n",
       "        text-align: right;\n",
       "    }\n",
       "</style>\n",
       "<table border=\"1\" class=\"dataframe\">\n",
       "  <thead>\n",
       "    <tr style=\"text-align: right;\">\n",
       "      <th></th>\n",
       "      <th>Faturamento RJ</th>\n",
       "      <th>Loc RJ</th>\n",
       "      <th>Temp RJ</th>\n",
       "      <th>Func RJ</th>\n",
       "      <th>Preço RJ</th>\n",
       "      <th>Fav RJ</th>\n",
       "    </tr>\n",
       "  </thead>\n",
       "  <tbody>\n",
       "    <tr>\n",
       "      <th>count</th>\n",
       "      <td>7.000000e+00</td>\n",
       "      <td>7.000000</td>\n",
       "      <td>7.000000</td>\n",
       "      <td>7.000000</td>\n",
       "      <td>7.000000</td>\n",
       "      <td>7.00000</td>\n",
       "    </tr>\n",
       "    <tr>\n",
       "      <th>mean</th>\n",
       "      <td>1.169014e+07</td>\n",
       "      <td>3.928571</td>\n",
       "      <td>4.628571</td>\n",
       "      <td>4.014286</td>\n",
       "      <td>4.342857</td>\n",
       "      <td>4.20000</td>\n",
       "    </tr>\n",
       "    <tr>\n",
       "      <th>std</th>\n",
       "      <td>2.956009e+05</td>\n",
       "      <td>0.075593</td>\n",
       "      <td>0.111270</td>\n",
       "      <td>0.069007</td>\n",
       "      <td>0.097590</td>\n",
       "      <td>0.08165</td>\n",
       "    </tr>\n",
       "    <tr>\n",
       "      <th>min</th>\n",
       "      <td>1.126469e+07</td>\n",
       "      <td>3.800000</td>\n",
       "      <td>4.500000</td>\n",
       "      <td>3.900000</td>\n",
       "      <td>4.200000</td>\n",
       "      <td>4.10000</td>\n",
       "    </tr>\n",
       "    <tr>\n",
       "      <th>25%</th>\n",
       "      <td>1.151511e+07</td>\n",
       "      <td>3.900000</td>\n",
       "      <td>4.550000</td>\n",
       "      <td>4.000000</td>\n",
       "      <td>4.300000</td>\n",
       "      <td>4.15000</td>\n",
       "    </tr>\n",
       "    <tr>\n",
       "      <th>50%</th>\n",
       "      <td>1.171528e+07</td>\n",
       "      <td>3.900000</td>\n",
       "      <td>4.600000</td>\n",
       "      <td>4.000000</td>\n",
       "      <td>4.400000</td>\n",
       "      <td>4.20000</td>\n",
       "    </tr>\n",
       "    <tr>\n",
       "      <th>75%</th>\n",
       "      <td>1.187586e+07</td>\n",
       "      <td>4.000000</td>\n",
       "      <td>4.700000</td>\n",
       "      <td>4.050000</td>\n",
       "      <td>4.400000</td>\n",
       "      <td>4.25000</td>\n",
       "    </tr>\n",
       "    <tr>\n",
       "      <th>max</th>\n",
       "      <td>1.206908e+07</td>\n",
       "      <td>4.000000</td>\n",
       "      <td>4.800000</td>\n",
       "      <td>4.100000</td>\n",
       "      <td>4.400000</td>\n",
       "      <td>4.30000</td>\n",
       "    </tr>\n",
       "  </tbody>\n",
       "</table>\n",
       "</div>"
      ],
      "text/plain": [
       "       Faturamento RJ    Loc RJ   Temp RJ   Func RJ  Preço RJ   Fav RJ\n",
       "count    7.000000e+00  7.000000  7.000000  7.000000  7.000000  7.00000\n",
       "mean     1.169014e+07  3.928571  4.628571  4.014286  4.342857  4.20000\n",
       "std      2.956009e+05  0.075593  0.111270  0.069007  0.097590  0.08165\n",
       "min      1.126469e+07  3.800000  4.500000  3.900000  4.200000  4.10000\n",
       "25%      1.151511e+07  3.900000  4.550000  4.000000  4.300000  4.15000\n",
       "50%      1.171528e+07  3.900000  4.600000  4.000000  4.400000  4.20000\n",
       "75%      1.187586e+07  4.000000  4.700000  4.050000  4.400000  4.25000\n",
       "max      1.206908e+07  4.000000  4.800000  4.100000  4.400000  4.30000"
      ]
     },
     "execution_count": 8,
     "metadata": {},
     "output_type": "execute_result"
    }
   ],
   "source": [
    "dados_rj.describe()"
   ]
  },
  {
   "attachments": {},
   "cell_type": "markdown",
   "metadata": {},
   "source": [
    "Podemos ver que em sp2 os mínimos de meu café favorito e preços estão abaixo dos demais (principalmente o último que também possui um desvio padrão bem distante das demais lojas e atributos, podendo ser um indicativo do problema)"
   ]
  },
  {
   "attachments": {},
   "cell_type": "markdown",
   "metadata": {},
   "source": [
    "# 5.Correlação por loja"
   ]
  },
  {
   "attachments": {},
   "cell_type": "markdown",
   "metadata": {},
   "source": [
    "Tentando identificar correlações relevantes entre faturamento e os demais atributos"
   ]
  },
  {
   "cell_type": "code",
   "execution_count": 9,
   "metadata": {},
   "outputs": [
    {
     "data": {
      "text/plain": [
       "Faturamento SP 1    1.000000\n",
       "Loc SP 1            0.398880\n",
       "Preço SP 1          0.168918\n",
       "Fav SP 1            0.119304\n",
       "Temp SP 1          -0.632342\n",
       "Func SP 1          -0.781914\n",
       "Name: Faturamento SP 1, dtype: float64"
      ]
     },
     "execution_count": 9,
     "metadata": {},
     "output_type": "execute_result"
    }
   ],
   "source": [
    "dados_sp1.corr()[\"Faturamento SP 1\"].sort_values(ascending=False)"
   ]
  },
  {
   "cell_type": "code",
   "execution_count": 10,
   "metadata": {},
   "outputs": [
    {
     "data": {
      "text/plain": [
       "Faturamento SP 2    1.000000\n",
       "Preço SP 2          0.835549\n",
       "Fav SP 2            0.220952\n",
       "Loc SP 2           -0.024774\n",
       "Func SP 2          -0.080174\n",
       "Temp SP 2          -0.677934\n",
       "Name: Faturamento SP 2, dtype: float64"
      ]
     },
     "execution_count": 10,
     "metadata": {},
     "output_type": "execute_result"
    }
   ],
   "source": [
    "dados_sp2.corr()[\"Faturamento SP 2\"].sort_values(ascending=False)"
   ]
  },
  {
   "cell_type": "code",
   "execution_count": 11,
   "metadata": {},
   "outputs": [
    {
     "data": {
      "text/plain": [
       "Faturamento RJ    1.000000\n",
       "Fav RJ            0.636155\n",
       "Loc RJ            0.415989\n",
       "Preço RJ          0.362196\n",
       "Temp RJ           0.243287\n",
       "Func RJ          -0.500162\n",
       "Name: Faturamento RJ, dtype: float64"
      ]
     },
     "execution_count": 11,
     "metadata": {},
     "output_type": "execute_result"
    }
   ],
   "source": [
    "dados_rj.corr()[\"Faturamento RJ\"].sort_values(ascending=False)"
   ]
  },
  {
   "attachments": {},
   "cell_type": "markdown",
   "metadata": {},
   "source": [
    "Podemos perceber uma correlação forte entre o preço e a temperatura (inversamente) com o faturamento, os mesmos serão explorados mais a fundo."
   ]
  },
  {
   "attachments": {},
   "cell_type": "markdown",
   "metadata": {},
   "source": [
    "# 6. Boxplot"
   ]
  },
  {
   "attachments": {},
   "cell_type": "markdown",
   "metadata": {},
   "source": [
    "### 6.1. Preço"
   ]
  },
  {
   "cell_type": "code",
   "execution_count": 12,
   "metadata": {},
   "outputs": [
    {
     "data": {
      "image/png": "[encoded data removed]",
      "text/plain": [
       "<Figure size 432x288 with 1 Axes>"
      ]
     },
     "metadata": {
      "needs_background": "light"
     },
     "output_type": "display_data"
    }
   ],
   "source": [
    "data = [dados_sp1[\"Preço SP 1\"], dados_sp2[\"Preço SP 2\"], dados_rj[\"Preço RJ\"]]\n",
    "fig, ax = plt.subplots()\n",
    "fig.suptitle(\"Preço SP1, SP2 e RJ\")\n",
    "ax.boxplot(data)\n",
    "\n",
    "plt.show()"
   ]
  },
  {
   "attachments": {},
   "cell_type": "markdown",
   "metadata": {},
   "source": [
    "### 6.2. Temperatura"
   ]
  },
  {
   "cell_type": "code",
   "execution_count": 13,
   "metadata": {},
   "outputs": [
    {
     "data": {
      "image/png": "[encoded data removed]",
      "text/plain": [
       "<Figure size 432x288 with 1 Axes>"
      ]
     },
     "metadata": {
      "needs_background": "light"
     },
     "output_type": "display_data"
    }
   ],
   "source": [
    "data = [dados_sp1[\"Temp SP 1\"], dados_sp2[\"Temp SP 2\"], dados_rj[\"Temp RJ\"]]\n",
    "fig, ax = plt.subplots()\n",
    "fig.suptitle(\"Temperatura SP1, SP2 e RJ\")\n",
    "ax.boxplot(data)\n",
    "\n",
    "plt.show()"
   ]
  },
  {
   "attachments": {},
   "cell_type": "markdown",
   "metadata": {},
   "source": [
    "Como preço é realmente o que mais destaca SP vamos seguir com ele"
   ]
  },
  {
   "attachments": {},
   "cell_type": "markdown",
   "metadata": {},
   "source": [
    "### 6.3. Demais"
   ]
  },
  {
   "cell_type": "code",
   "execution_count": 14,
   "metadata": {},
   "outputs": [
    {
     "data": {
      "image/png": "[encoded data removed]",
      "text/plain": [
       "<Figure size 432x288 with 1 Axes>"
      ]
     },
     "metadata": {
      "needs_background": "light"
     },
     "output_type": "display_data"
    }
   ],
   "source": [
    "data = [dados_sp1[\"Loc SP 1\"], dados_sp2[\"Loc SP 2\"], dados_rj[\"Loc RJ\"]]\n",
    "fig, ax = plt.subplots()\n",
    "fig.suptitle(\"Localização SP1, SP2 e RJ\")\n",
    "ax.boxplot(data)\n",
    "\n",
    "plt.show()"
   ]
  },
  {
   "cell_type": "code",
   "execution_count": 15,
   "metadata": {},
   "outputs": [
    {
     "data": {
      "image/png": "[encoded data removed]",
      "text/plain": [
       "<Figure size 432x288 with 1 Axes>"
      ]
     },
     "metadata": {
      "needs_background": "light"
     },
     "output_type": "display_data"
    }
   ],
   "source": [
    "data = [dados_sp1[\"Func SP 1\"], dados_sp2[\"Func SP 2\"], dados_rj[\"Func RJ\"]]\n",
    "fig, ax = plt.subplots()\n",
    "fig.suptitle(\"Funcionários SP1, SP2 e RJ\")\n",
    "ax.boxplot(data)\n",
    "\n",
    "plt.show()"
   ]
  },
  {
   "cell_type": "code",
   "execution_count": 16,
   "metadata": {},
   "outputs": [
    {
     "data": {
      "image/png": "[encoded data removed]",
      "text/plain": [
       "<Figure size 432x288 with 1 Axes>"
      ]
     },
     "metadata": {
      "needs_background": "light"
     },
     "output_type": "display_data"
    }
   ],
   "source": [
    "data = [dados_sp1[\"Fav SP 1\"], dados_sp2[\"Fav SP 2\"], dados_rj[\"Fav RJ\"]]\n",
    "fig, ax = plt.subplots()\n",
    "fig.suptitle(\"Favorito SP1, SP2 e RJ\")\n",
    "ax.boxplot(data)\n",
    "\n",
    "plt.show()"
   ]
  },
  {
   "attachments": {},
   "cell_type": "markdown",
   "metadata": {},
   "source": [
    "# 7. Shapiro Test"
   ]
  },
  {
   "cell_type": "code",
   "execution_count": 17,
   "metadata": {},
   "outputs": [
    {
     "data": {
      "text/plain": [
       "0.9239152073860168"
      ]
     },
     "execution_count": 17,
     "metadata": {},
     "output_type": "execute_result"
    }
   ],
   "source": [
    "shapiro_test = stats.shapiro(dados_sp2[\"Preço SP 2\"])\n",
    "shapiro_test.statistic"
   ]
  },
  {
   "cell_type": "code",
   "execution_count": 18,
   "metadata": {},
   "outputs": [
    {
     "data": {
      "text/plain": [
       "0.5004174709320068"
      ]
     },
     "execution_count": 18,
     "metadata": {},
     "output_type": "execute_result"
    }
   ],
   "source": [
    "shapiro_test.pvalue"
   ]
  },
  {
   "cell_type": "code",
   "execution_count": 19,
   "metadata": {},
   "outputs": [
    {
     "data": {
      "text/plain": [
       "0.9345842599868774"
      ]
     },
     "execution_count": 19,
     "metadata": {},
     "output_type": "execute_result"
    }
   ],
   "source": [
    "shapiro_test = stats.shapiro(dados_sp2[\"Temp SP 2\"])\n",
    "shapiro_test.statistic"
   ]
  },
  {
   "cell_type": "code",
   "execution_count": 20,
   "metadata": {},
   "outputs": [
    {
     "data": {
      "text/plain": [
       "0.5905254483222961"
      ]
     },
     "execution_count": 20,
     "metadata": {},
     "output_type": "execute_result"
    }
   ],
   "source": [
    "shapiro_test.pvalue"
   ]
  },
  {
   "cell_type": "code",
   "execution_count": 21,
   "metadata": {},
   "outputs": [
    {
     "data": {
      "text/plain": [
       "0.8039007782936096"
      ]
     },
     "execution_count": 21,
     "metadata": {},
     "output_type": "execute_result"
    }
   ],
   "source": [
    "shapiro_test = stats.shapiro(dados_sp2[\"Faturamento SP 2\"])\n",
    "shapiro_test.statistic"
   ]
  },
  {
   "cell_type": "code",
   "execution_count": 22,
   "metadata": {},
   "outputs": [
    {
     "data": {
      "text/plain": [
       "0.04476071521639824"
      ]
     },
     "execution_count": 22,
     "metadata": {},
     "output_type": "execute_result"
    }
   ],
   "source": [
    "shapiro_test.pvalue"
   ]
  },
  {
   "attachments": {},
   "cell_type": "markdown",
   "metadata": {},
   "source": [
    "Como o valor < 0.05 para o faturamento, não pode ser considerado normal, impedindo avanço posterior"
   ]
  },
  {
   "attachments": {},
   "cell_type": "markdown",
   "metadata": {},
   "source": [
    "# 9. Representações gráficas"
   ]
  },
  {
   "cell_type": "code",
   "execution_count": 23,
   "metadata": {},
   "outputs": [
    {
     "data": {
      "text/plain": [
       "<function matplotlib.pyplot.show(close=None, block=None)>"
      ]
     },
     "execution_count": 23,
     "metadata": {},
     "output_type": "execute_result"
    },
    {
     "data": {
      "image/png": "[encoded data removed]",
      "text/plain": [
       "<Figure size 432x288 with 1 Axes>"
      ]
     },
     "metadata": {
      "needs_background": "light"
     },
     "output_type": "display_data"
    }
   ],
   "source": [
    "plt.bar(dados_sp2[\"Preço SP 2\"].index, dados_sp2[\"Preço SP 2\"], width=15)\n",
    "\n",
    "plt.show"
   ]
  },
  {
   "cell_type": "code",
   "execution_count": 24,
   "metadata": {},
   "outputs": [
    {
     "data": {
      "text/plain": [
       "<function matplotlib.pyplot.show(close=None, block=None)>"
      ]
     },
     "execution_count": 24,
     "metadata": {},
     "output_type": "execute_result"
    },
    {
     "data": {
      "image/png": "[encoded data removed]",
      "text/plain": [
       "<Figure size 432x288 with 1 Axes>"
      ]
     },
     "metadata": {
      "needs_background": "light"
     },
     "output_type": "display_data"
    }
   ],
   "source": [
    "plt.bar(dados_sp2[\"Faturamento SP 2\"].index, dados_sp2[\"Faturamento SP 2\"], width=15)\n",
    "\n",
    "plt.show"
   ]
  },
  {
   "cell_type": "code",
   "execution_count": null,
   "metadata": {},
   "outputs": [],
   "source": []
  }
 ],
 "metadata": {
  "kernelspec": {
   "display_name": "Python 3",
   "language": "python",
   "name": "python3"
  },
  "language_info": {
   "codemirror_mode": {
    "name": "ipython",
    "version": 3
   },
   "file_extension": ".py",
   "mimetype": "text/x-python",
   "name": "python",
   "nbconvert_exporter": "python",
   "pygments_lexer": "ipython3",
   "version": "3.9.12"
  },
  "orig_nbformat": 4
 },
 "nbformat": 4,
 "nbformat_minor": 2
}
