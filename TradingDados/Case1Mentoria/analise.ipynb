{
 "cells": [
  {
   "attachments": {},
   "cell_type": "markdown",
   "metadata": {},
   "source": [
    "# Importando libs"
   ]
  },
  {
   "cell_type": "code",
   "execution_count": 1,
   "metadata": {},
   "outputs": [],
   "source": [
    "import pandas as pd"
   ]
  },
  {
   "attachments": {},
   "cell_type": "markdown",
   "metadata": {},
   "source": [
    "# Importando dados"
   ]
  },
  {
   "cell_type": "code",
   "execution_count": 2,
   "metadata": {},
   "outputs": [
    {
     "ename": "NameError",
     "evalue": "name 'apoio_case_1' is not defined",
     "output_type": "error",
     "traceback": [
      "\u001b[1;31m---------------------------------------------------------------------------\u001b[0m",
      "\u001b[1;31mNameError\u001b[0m                                 Traceback (most recent call last)",
      "Cell \u001b[1;32mIn[2], line 1\u001b[0m\n\u001b[1;32m----> 1\u001b[0m faturamento_total \u001b[39m=\u001b[39m pd\u001b[39m.\u001b[39mread_excel(apoio_case_1\u001b[39m.\u001b[39mxlsx, sheet_name\u001b[39m=\u001b[39m\u001b[39m'\u001b[39m\u001b[39mFaturamento_total\u001b[39m\u001b[39m'\u001b[39m, index_col\u001b[39m=\u001b[39m\u001b[39m\"\u001b[39m\u001b[39mData\u001b[39m\u001b[39m\"\u001b[39m)\n\u001b[0;32m      2\u001b[0m faturamento_sp1 \u001b[39m=\u001b[39m pd\u001b[39m.\u001b[39mread_excel(apoio_case_1\u001b[39m.\u001b[39mxlsx, sheet_name\u001b[39m=\u001b[39m\u001b[39m'\u001b[39m\u001b[39mFaturamento_Regiao_SP_1\u001b[39m\u001b[39m'\u001b[39m, index_col\u001b[39m=\u001b[39m\u001b[39m\"\u001b[39m\u001b[39mData\u001b[39m\u001b[39m\"\u001b[39m)\n\u001b[0;32m      3\u001b[0m faturamento_sp2 \u001b[39m=\u001b[39m pd\u001b[39m.\u001b[39mread_excel(apoio_case_1\u001b[39m.\u001b[39mxlsx, sheet_name\u001b[39m=\u001b[39m\u001b[39m'\u001b[39m\u001b[39mFaturamento_Regiao_SP_2\u001b[39m\u001b[39m'\u001b[39m, index_col\u001b[39m=\u001b[39m\u001b[39m\"\u001b[39m\u001b[39mData\u001b[39m\u001b[39m\"\u001b[39m)\n",
      "\u001b[1;31mNameError\u001b[0m: name 'apoio_case_1' is not defined"
     ]
    }
   ],
   "source": [
    "faturamento_total = pd.read_excel(apoio_case_1.xlsx, sheet_name='Faturamento_total', index_col=\"Data\")\n",
    "faturamento_sp1 = pd.read_excel(apoio_case_1.xlsx, sheet_name='Faturamento_Regiao_SP_1', index_col=\"Data\")\n",
    "faturamento_sp2 = pd.read_excel(apoio_case_1.xlsx, sheet_name='Faturamento_Regiao_SP_2', index_col=\"Data\")\n",
    "faturamento_rj = pd.read_excel(apoio_case_1.xlsx, sheet_name='Faturamento_Regiao_RJ', index_col=\"Data\")\n",
    "pesquisa_sp1 = pd.read_excel(apoio_case_1.xlsx, sheet_name='Pesquisa_SP_1', index_col=\"Data\")\n",
    "pesquisa_sp2 = pd.read_excel(apoio_case_1.xlsx, sheet_name='Pesquisa_SP_2', index_col=\"Data\")\n",
    "pesquisa_rj = pd.read_excel(apoio_case_1.xlsx, sheet_name='Pesquisa_RJ_1', index_col=\"Data\")"
   ]
  },
  {
   "cell_type": "code",
   "execution_count": null,
   "metadata": {},
   "outputs": [],
   "source": []
  }
 ],
 "metadata": {
  "kernelspec": {
   "display_name": "Python 3",
   "language": "python",
   "name": "python3"
  },
  "language_info": {
   "codemirror_mode": {
    "name": "ipython",
    "version": 3
   },
   "file_extension": ".py",
   "mimetype": "text/x-python",
   "name": "python",
   "nbconvert_exporter": "python",
   "pygments_lexer": "ipython3",
   "version": "3.11.1"
  },
  "orig_nbformat": 4
 },
 "nbformat": 4,
 "nbformat_minor": 2
}
